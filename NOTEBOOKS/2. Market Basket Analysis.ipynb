{
 "cells": [
  {
   "cell_type": "markdown",
   "id": "d65941c3-e2d2-4127-8eea-c442a10dbc30",
   "metadata": {},
   "source": [
    "## Market Basket Analysis of Nestle Sales Data"
   ]
  },
  {
   "cell_type": "markdown",
   "id": "829acae8-9322-4338-8350-f70474da214c",
   "metadata": {},
   "source": [
    "The objective of this analysis is to identify patterns and relationships in the Nestle sales data by applying Market Basket Analysis (MBA). This will allow us to uncover frequent product combinations, association rules, and key insights on customer purchasing behavior. The insights gained can guide sales strategies, inventory management, and product bundling."
   ]
  },
  {
   "cell_type": "markdown",
   "id": "1ea797a5-af1e-4575-9099-550146eb7891",
   "metadata": {},
   "source": [
    "### 1. Data Import and Exploration"
   ]
  },
  {
   "cell_type": "code",
   "execution_count": 1,
   "id": "7352df56-93d4-4e8c-af49-c57ceaafa43a",
   "metadata": {
    "tags": []
   },
   "outputs": [
    {
     "name": "stdout",
     "output_type": "stream",
     "text": [
      "Dataset Info:\n",
      "<class 'pandas.core.frame.DataFrame'>\n",
      "RangeIndex: 18115 entries, 0 to 18114\n",
      "Data columns (total 8 columns):\n",
      " #   Column          Non-Null Count  Dtype         \n",
      "---  ------          --------------  -----         \n",
      " 0   Sales ID        18115 non-null  object        \n",
      " 1   Date            18115 non-null  datetime64[ns]\n",
      " 2   Product Name    18115 non-null  object        \n",
      " 3   Total Revenue   18115 non-null  float64       \n",
      " 4   Sales Location  18115 non-null  object        \n",
      " 5   Sales Medium    18115 non-null  object        \n",
      " 6   Sales count     18115 non-null  int64         \n",
      " 7   Product Count   18115 non-null  int64         \n",
      "dtypes: datetime64[ns](1), float64(1), int64(2), object(4)\n",
      "memory usage: 1.1+ MB\n",
      "None\n",
      "   Sales ID       Date Product Name  Total Revenue  \\\n",
      "0  AT-18056 2020-06-07      Nescafe         279.30   \n",
      "1   AT-9867 2019-05-14      Nescafe         263.46   \n",
      "2  AT-11225 2019-07-07      Nescafe         258.72   \n",
      "3   AT-3208 2018-06-25      Nescafe         236.88   \n",
      "4  AT-18812 2020-07-04      Nescafe         235.20   \n",
      "\n",
      "                 Sales Location Sales Medium  Sales count  Product Count  \n",
      "0  Australian Capital Territory       Online            1              1  \n",
      "1  Australian Capital Territory       Direct            1              1  \n",
      "2  Australian Capital Territory       Online            1              1  \n",
      "3  Australian Capital Territory       Online            1              1  \n",
      "4  Australian Capital Territory       Online            1              1  \n"
     ]
    }
   ],
   "source": [
    "import pandas as pd\n",
    "import numpy as np\n",
    "from mlxtend.frequent_patterns import apriori, association_rules\n",
    "\n",
    "# Load the dataset from a CSV file\n",
    "df = pd.read_excel(\"C:/Users/muge/Dropbox/GMU/Portfolio/Nestle/NESTLE SALES DATASET.xlsx\")\n",
    "\n",
    "# Display basic info\n",
    "print(\"Dataset Info:\")\n",
    "print(df.info())\n",
    "\n",
    "# Check the structure\n",
    "print(df.head())"
   ]
  },
  {
   "cell_type": "markdown",
   "id": "5f36d16e-f8d0-4304-88e9-6e91c5bcd9bb",
   "metadata": {},
   "source": [
    "### 2. Data Transformation (Transaction-Based Format)"
   ]
  },
  {
   "cell_type": "markdown",
   "id": "6756d0e7-2c28-41a4-b68e-1436597d0ef5",
   "metadata": {},
   "source": [
    "To apply Market Basket Analysis, we need to transform the dataset into a transaction-based format. This involves aggregating product purchases by each sale (Sales ID) and converting it into a binary format (1 for product purchased, 0 for not purchased)."
   ]
  },
  {
   "cell_type": "markdown",
   "id": "dadf9c03-e5e1-48bf-8855-dcf9fa290c1a",
   "metadata": {},
   "source": [
    "* We transform the data into a transactional format, where each row represents a unique Sales ID and each column represents a Product Name.\n",
    "* The values in the basket DataFrame indicate whether a product was purchased in a given transaction (True) or not (False).\n",
    "* This format is essential for the Apriori algorithm."
   ]
  },
  {
   "cell_type": "code",
   "execution_count": 2,
   "id": "5adef998-bb5a-485d-88a7-a249d10f9678",
   "metadata": {
    "tags": []
   },
   "outputs": [
    {
     "name": "stdout",
     "output_type": "stream",
     "text": [
      "\n",
      "Prepared Transaction Dataset:\n",
      " Product Name  Kit Kat  Maggi   Milo  Nes Cau  Nescafe  Nescafe Gold  \\\n",
      "Sales ID                                                              \n",
      "AT-001           True  False  False    False    False         False   \n",
      "AT-002          False  False   True    False    False         False   \n",
      "AT-003          False  False  False    False    False         False   \n",
      "AT-004          False  False  False    False    False         False   \n",
      "AT-005          False  False  False    False     True         False   \n",
      "\n",
      "Product Name  Nesquik Duo  Nestle Drumstick  Smarties  \n",
      "Sales ID                                               \n",
      "AT-001              False             False     False  \n",
      "AT-002              False             False     False  \n",
      "AT-003              False              True     False  \n",
      "AT-004              False              True     False  \n",
      "AT-005              False             False     False  \n"
     ]
    }
   ],
   "source": [
    "# Group by Sales ID and aggregate product purchases\n",
    "basket = df.groupby(['Sales ID', 'Product Name'])['Product Count'].sum().unstack().fillna(0)\n",
    "\n",
    "# Convert to Boolean (True/False) values for Apriori\n",
    "basket = basket.applymap(lambda x: 1 if x > 0 else 0).astype(bool)\n",
    "\n",
    "# Print first few rows of prepared data\n",
    "print(\"\\nPrepared Transaction Dataset:\\n\", basket.head())"
   ]
  },
  {
   "cell_type": "markdown",
   "id": "4d2cc54a-a28e-4605-b520-0c4b53958a47",
   "metadata": {},
   "source": [
    "We then convert the data into a binary format where a \"1\" indicates a product was purchased in that transaction, and \"0\" means it wasn't."
   ]
  },
  {
   "cell_type": "markdown",
   "id": "f1b044c1-26b9-4ed7-8d6c-ebf94b61c050",
   "metadata": {},
   "source": [
    "Boolean Values (True/False):\n",
    "* The values within the DataFrame are boolean (True or False).\n",
    "* True indicates that the corresponding product was purchased in that specific transaction.\n",
    "* False indicates that the product was not purchased in that transaction.\n",
    "\n",
    "Interpreting the First Few Rows\n",
    "\n",
    "* AT-001: In transaction \"AT-001,\" the customer bought \"Kit Kat\" but did not buy any of the other listed products.\n",
    "* AT-002: In transaction \"AT-002,\" the customer bought \"Milo\" but did not buy any of the other listed products.\n",
    "* AT-003: In transaction \"AT-003\", the customer bought \"Nestle Drumstick\" and did not buy any other listed products.\n",
    "* AT-004: In transaction \"AT-004\", the customer bought \"Nestle Drumstick\" and did not buy any other listed products.\n",
    "* AT-005: In transaction \"AT-005,\" the customer bought \"Nescafe\" but did not buy any of the other listed products.\n",
    "\n",
    "Key Takeaways\n",
    "* Transaction-Based Format: This format is crucial for market basket analysis. It transforms the raw sales data into a structure that the Apriori algorithm can process.\n",
    "* Individual Purchase Patterns: Each row provides a snapshot of the products purchased in a single transaction.\n",
    "* Sparse Data: Notice that most of the values are \"False.\" This is typical in market basket analysis, as customers usually buy a limited number of products in each t ransaction.\n",
    "* Input for Apriori: This DataFrame will be the input for the Apriori algorithm, which will identify frequent itemsets (combinations of products that are often purchased together).\n",
    "\n",
    "This output shows us the raw transaction data in a format that is ready for association rule mining. It shows what products were purchased within each sales transaction."
   ]
  },
  {
   "cell_type": "markdown",
   "id": "bd6bc80b-4241-4501-9e5d-8016a96b0312",
   "metadata": {},
   "source": [
    "### 3. Applying the Apriori Algorithm"
   ]
  },
  {
   "cell_type": "markdown",
   "id": "32701ffd-b7fe-4ec7-a737-bdff2a522dd2",
   "metadata": {},
   "source": [
    "Next, we apply the Apriori algorithm to find frequent itemsets based on a minimum support threshold. We then generate association rules from these frequent itemsets."
   ]
  },
  {
   "cell_type": "markdown",
   "id": "47e12229-71cd-4bcf-ae85-b491d178a69c",
   "metadata": {},
   "source": [
    "#### Applying Apriori with Initial Support Threshold"
   ]
  },
  {
   "cell_type": "markdown",
   "id": "1bb785a0-753b-436f-b1f0-7fb411c0368a",
   "metadata": {},
   "source": [
    "* The Apriori algorithm is applied to identify frequent itemsets with a minimum support of 0.02 (2% of transactions).\n",
    "* Association rules are generated using the \"lift\" metric, with a minimum lift threshold of 1.2. Higher lift values indicate stronger relationships between products.\n",
    "\n",
    "Results Analysis\n",
    "* After sorting by confidence, we display the top association rules that reveal the strongest product pairings.\n",
    "* For example, if Rule A → B has a high confidence, it means that customers who bought Product A are likely to also buy Product B.\n",
    "\n"
   ]
  },
  {
   "cell_type": "markdown",
   "id": "d905b888-0075-43ba-a304-72f75be08131",
   "metadata": {},
   "source": [
    "Understanding the Parameters\n",
    "\n",
    "* min_support=0.02: This means that the Apriori algorithm was looking for itemsets (combinations of products) that appeared in at least 2% of all transactions.\n",
    "* metric=\"lift\": The association rules were generated using the \"lift\" metric, which measures how much more likely it is that item Y is purchased when item X is purchased, while controlling for how popular item Y is.\n",
    "* min_threshold=1.2: Only rules with a lift value of 1.2 or higher were considered. Lift values greater than 1 indicate a positive association between the items.\n",
    "* rules.sort_values(by=\"confidence\", ascending=False): The rules were sorted by confidence, which measures how often item Y is purchased when item X is purchased."
   ]
  },
  {
   "cell_type": "code",
   "execution_count": 3,
   "id": "43460101-bf85-4e4f-abce-c67534642aca",
   "metadata": {
    "tags": []
   },
   "outputs": [
    {
     "name": "stdout",
     "output_type": "stream",
     "text": [
      "\n",
      "Top Association Rules:\n",
      " Empty DataFrame\n",
      "Columns: [antecedents, consequents, support, confidence, lift]\n",
      "Index: []\n"
     ]
    }
   ],
   "source": [
    "# Apply Apriori to find frequent itemsets\n",
    "frequent_itemsets = apriori(basket, min_support=0.02, use_colnames=True)  # Adjust min_support if needed\n",
    "\n",
    "# Generate association rules\n",
    "rules = association_rules(frequent_itemsets, metric=\"lift\", min_threshold=1.2)\n",
    "\n",
    "# Sort rules by confidence\n",
    "rules = rules.sort_values(by=\"confidence\", ascending=False)\n",
    "\n",
    "# Display top rules\n",
    "print(\"\\nTop Association Rules:\\n\", rules[['antecedents', 'consequents', 'support', 'confidence', 'lift']].head(10))"
   ]
  },
  {
   "cell_type": "markdown",
   "id": "921fc540-bd24-40fa-b042-0d3c2e0fc3d9",
   "metadata": {},
   "source": [
    "The output indicates that no association rules were found that met the specified criteria when running the Apriori algorithm and generating association rules."
   ]
  },
  {
   "cell_type": "markdown",
   "id": "3845efb1-eaab-45f2-b8f4-c4bd61e74711",
   "metadata": {
    "tags": []
   },
   "source": [
    "What to Do Next\n",
    "\n",
    "* Lower min_support: Try lowering the min_support value (e.g., to 0.01 or even lower) to capture more frequent itemsets.\n",
    "* Lower min_threshold for Lift: Try lowering the min_threshold for the lift metric (e.g., to 1.05 or 1.1) to include more rules.\n",
    "* Examine Frequent Itemsets: Before generating rules, inspect the frequent_itemsets DataFrame to see if any frequent itemsets were found at all.\n",
    "* Review Data: Review the source data to see if there are any anomolies.\n",
    "\n",
    "The empty DataFrame suggests that the initial parameters were too restrictive, and we should consider adjusting them to find meaningful association rules."
   ]
  },
  {
   "cell_type": "markdown",
   "id": "2fa0b628-c9ca-4a43-9b2f-217750506dc9",
   "metadata": {},
   "source": [
    "### 4. Refining the Analysis with Lower Support Threshold"
   ]
  },
  {
   "cell_type": "markdown",
   "id": "9fbb25c9-d12e-411b-a056-89a6e7dc1674",
   "metadata": {},
   "source": [
    "To capture more frequent itemsets, we lower the support threshold and re-run the analysis."
   ]
  },
  {
   "cell_type": "markdown",
   "id": "eb64da21-4b20-4341-afb7-f050326f4ed8",
   "metadata": {},
   "source": [
    "* The support threshold is reduced to 0.002, allowing us to capture more product pairings in the dataset.\n",
    "* The confidence threshold is set to 0.1, capturing rules with lower confidence but possibly revealing less obvious relationships."
   ]
  },
  {
   "cell_type": "code",
   "execution_count": 4,
   "id": "93cafe80-030b-4eb9-a9ed-d1fd5f5b6ed4",
   "metadata": {
    "tags": []
   },
   "outputs": [
    {
     "name": "stdout",
     "output_type": "stream",
     "text": [
      "\n",
      "Top Association Rules:\n",
      " Empty DataFrame\n",
      "Columns: [antecedents, consequents, support, confidence, lift]\n",
      "Index: []\n"
     ]
    }
   ],
   "source": [
    "# Apply Apriori with a lower support\n",
    "frequent_itemsets = apriori(basket, min_support=0.002, use_colnames=True)\n",
    "\n",
    "# Generate association rules with lower confidence threshold\n",
    "rules = association_rules(frequent_itemsets, metric=\"confidence\", min_threshold=0.1)\n",
    "\n",
    "# Sort rules by lift and confidence\n",
    "rules = rules.sort_values(by=[\"lift\", \"confidence\"], ascending=False)\n",
    "\n",
    "# Display top rules\n",
    "print(\"\\nTop Association Rules:\\n\", rules[['antecedents', 'consequents', 'support', 'confidence', 'lift']].head(10))"
   ]
  },
  {
   "cell_type": "markdown",
   "id": "d35ef2c8-8df7-44c9-a919-876a2f7d4fe9",
   "metadata": {
    "tags": []
   },
   "source": [
    "The output again indicates that no association rules were found that met the specified criteria, even after lowering the thresholds."
   ]
  },
  {
   "cell_type": "markdown",
   "id": "5490bdf4-0618-43f8-83dd-8a3627ccaf44",
   "metadata": {},
   "source": [
    "### 5. Checking Itemsets and Product Pair Combinations"
   ]
  },
  {
   "cell_type": "markdown",
   "id": "24f02682-1a79-4a8a-b6ca-7a52249bbb17",
   "metadata": {},
   "source": [
    "We check for product pairs (2-item itemsets) to identify common combinations that frequently co-occur."
   ]
  },
  {
   "cell_type": "markdown",
   "id": "1abcdac8-0683-4c0a-bbff-fb24645020bc",
   "metadata": {},
   "source": [
    "* We filter itemsets that contain exactly two products, as these are likely to reveal commonly purchased product pairs.\n",
    "* This helps us identify cross-selling opportunities, such as which products are often bought together."
   ]
  },
  {
   "cell_type": "code",
   "execution_count": 5,
   "id": "2964c073-1caa-49d2-9e11-d265b8829554",
   "metadata": {
    "tags": []
   },
   "outputs": [
    {
     "name": "stdout",
     "output_type": "stream",
     "text": [
      "\n",
      "Frequent Item Pairs:\n",
      " Empty DataFrame\n",
      "Columns: [support, itemsets]\n",
      "Index: []\n"
     ]
    }
   ],
   "source": [
    "# Filter for pairs of products\n",
    "frequent_itemsets[\"itemsets\"] = frequent_itemsets[\"itemsets\"].apply(lambda x: list(x))\n",
    "pairs = frequent_itemsets[frequent_itemsets[\"itemsets\"].apply(lambda x: len(x) == 2)]\n",
    "print(\"\\nFrequent Item Pairs:\\n\", pairs)"
   ]
  },
  {
   "cell_type": "markdown",
   "id": "8cb35197-5c43-4ebc-8100-c62805a750d4",
   "metadata": {},
   "source": [
    "### 6. Further Refining with Lower Confidence Threshold"
   ]
  },
  {
   "cell_type": "markdown",
   "id": "25834404-b9e8-479a-9b8e-412c10c8a1cf",
   "metadata": {},
   "source": [
    "To capture even weaker associations, we lower the confidence threshold further and inspect the results."
   ]
  },
  {
   "cell_type": "code",
   "execution_count": 6,
   "id": "5651e6fe-2ade-4ef9-9467-b915dcf15257",
   "metadata": {
    "tags": []
   },
   "outputs": [
    {
     "name": "stdout",
     "output_type": "stream",
     "text": [
      "\n",
      "Top Association Rules:\n",
      " Empty DataFrame\n",
      "Columns: [antecedents, consequents, support, confidence, lift]\n",
      "Index: []\n"
     ]
    }
   ],
   "source": [
    "# Apply Apriori with a lower support and confidence\n",
    "rules = association_rules(frequent_itemsets, metric=\"confidence\", min_threshold=0.05)\n",
    "\n",
    "# Sort by lift\n",
    "rules = rules.sort_values(by=\"lift\", ascending=False)\n",
    "\n",
    "# Display top rules\n",
    "print(\"\\nTop Association Rules:\\n\", rules[['antecedents', 'consequents', 'support', 'confidence', 'lift']].head(10))"
   ]
  },
  {
   "cell_type": "markdown",
   "id": "76bf337c-3ef6-4233-aed0-1261fac6320f",
   "metadata": {},
   "source": [
    "The repeated occurrence of the Empty DataFrame output, even after progressively lowering the min_support and min_confidence thresholds, strongly points to a few critical interpretations:\n",
    "\n",
    "Key Interpretations\n",
    "1. Fundamental Lack of Strong Associations:\n",
    "    * The most likely explanation is that the Nestle sales data simply doesn't contain strong, consistent associations between the products. Customers are buying products independently, with very little predictable co-occurrence.\n",
    "    * This could be due to:\n",
    "        * Diverse Product Range: Nestle offers a wide array of products (snacks, beverages, cooking ingredients), which might cater to diverse, non-overlapping customer needs.\n",
    "        * Single-Item Purchases: Customers may primarily buy single items rather than bundles or combinations.\n",
    "        * Low Purchase Frequency: Certain products might be bought very infrequently, making it difficult to find statistically significant associations.\n",
    "2. Extreme Data Sparsity/Granularity:\n",
    "    * Even with very low support, the data may be too sparse. This means that individual transactions don't contain enough product variety to make meaningful product combinations.\n",
    "    * It is possible that the sales ID's are too granular. Meaning that the sales ID's are for very small transactions, and not for full shopping baskets.\n",
    "3. Potential Data Quality Issues:\n",
    "    * While less likely, there's a possibility that data quality issues (errors, inconsistencies, missing values) are masking potential associations.\n",
    "4. Limitations of Apriori for this Dataset:\n",
    "    * Apriori is very effective for datasets that contain a lot of frequent itemsets. However, when the data is sparse, and there are not many frequent itemsets, then Apriori will struggle."
   ]
  },
  {
   "cell_type": "markdown",
   "id": "623df9f2-90f1-45ae-9dab-26d823296ee1",
   "metadata": {},
   "source": [
    "Implications for Business Insights:\n",
    "* Rethink Association-Based Strategies: If there are no strong associations, relying on association rules for marketing or product placement might not be effective.\n",
    "* Focus on Individual Product Performance: Instead of looking for product combinations, focus on analyzing individual product sales, top-selling items, and revenue by sales channel.\n",
    "* Customer Segmentation: Explore customer segmentation based on demographics, purchase frequency, or other factors to understand customer behavior beyond product associations.\n",
    "* Alternative Marketing Approaches: Consider other marketing strategies, such as promotions for individual products, loyalty programs, or targeted advertising based on customer preferences.\n",
    "* Data Re-evaluation: If association rules are crucial, re-evaluate the data collection and processing methods to ensure data quality and completeness.\n",
    "\n",
    "The empty DataFrame is a strong indicator that the data tells a story of independent product purchases rather than strong, predictable combinations. This requires a shift in analytical focus and marketing strategies."
   ]
  },
  {
   "cell_type": "markdown",
   "id": "25cdb701-c078-47bf-a1a5-4e23d522d30e",
   "metadata": {},
   "source": [
    "Lowering the confidence threshold to 0.05 allows for capturing more subtle relationships between products, which could be useful for promotional strategies or inventory bundling."
   ]
  },
  {
   "cell_type": "markdown",
   "id": "e0a55a8a-ab8a-45a1-8d0d-5072aacef8ba",
   "metadata": {},
   "source": [
    "We still do not get any association rules, it could be that the dataset still doesn't contain enough combinations of products purchased together"
   ]
  },
  {
   "cell_type": "markdown",
   "id": "726c6f4e-2008-4026-987d-3f3795023ee6",
   "metadata": {},
   "source": [
    "### 7. Analyzing Transaction Details"
   ]
  },
  {
   "cell_type": "markdown",
   "id": "6795c192-83c4-472a-a36e-b02a4943b51d",
   "metadata": {},
   "source": [
    "We analyze the number of products bought per transaction to understand purchasing patterns."
   ]
  },
  {
   "cell_type": "markdown",
   "id": "6357c0b6-d1cb-4b59-9f7e-5de0bf448709",
   "metadata": {},
   "source": [
    "By examining the number of products in each transaction, we can gain insight into customer purchase behavior, such as whether customers tend to buy multiple products or just a single item."
   ]
  },
  {
   "cell_type": "code",
   "execution_count": 7,
   "id": "5b1748b3-9e3e-4b15-aa2c-ff9f9b2aae4a",
   "metadata": {
    "tags": []
   },
   "outputs": [
    {
     "name": "stdout",
     "output_type": "stream",
     "text": [
      "\n",
      "Number of Products per Transaction:\n",
      " count    18115.0\n",
      "mean         1.0\n",
      "std          0.0\n",
      "min          1.0\n",
      "25%          1.0\n",
      "50%          1.0\n",
      "75%          1.0\n",
      "max          1.0\n",
      "Name: Product Name, dtype: float64\n"
     ]
    }
   ],
   "source": [
    "# Analyze how many products are bought in each transaction\n",
    "transaction_size = df.groupby('Sales ID')['Product Name'].count()\n",
    "\n",
    "# Display basic stats on the transaction size (number of products per transaction)\n",
    "print(\"\\nNumber of Products per Transaction:\\n\", transaction_size.describe())"
   ]
  },
  {
   "cell_type": "markdown",
   "id": "8e1765b5-043e-491d-b546-b264773a3186",
   "metadata": {},
   "source": [
    "This output provides a very clear and important insight into the nature of the Nestle sales data: almost every transaction involves the purchase of only one product"
   ]
  },
  {
   "cell_type": "markdown",
   "id": "247a4208-9de8-4e42-a125-a681ed28fc4e",
   "metadata": {},
   "source": [
    "Key Interpretations\n",
    "\n",
    "Single-Item Purchases Dominate:\n",
    "* The most significant takeaway is that virtually all sales transactions consist of a single product purchase. This explains why the association rule mining consistently resulted in empty DataFrames.\n",
    "\n",
    "Lack of Product Bundling:\n",
    "* The data indicates a strong absence of product bundling or co-purchasing. Customers are not buying combinations of Nestle products in the same transaction.\n",
    "\n",
    "Implications for Marketing:\n",
    "* Traditional market basket analysis and association rule-based marketing strategies are unlikely to be effective. Focus should shift to individual product promotions, targeted advertising based on product preferences, and customer segmentation based on other factors.\n",
    "\n",
    "Granular Sales Data:\n",
    "* It is very likely that the sales IDs are very granular, and represent individual item sales, instead of full shopping baskets.\n",
    "\n",
    "Re-evaluation of Sales Strategy:\n",
    "* This data shows that the sales strategy is mostly based around single item sales. If the company wants to increase sales, they should consider strategies that encourage multipule item purchases.\n",
    "\n",
    "This output confirms that the Nestle sales data is characterized by single-item transactions, which explains the difficulty in finding meaningful association rules. This insight is crucial for adjusting marketing and sales strategies."
   ]
  },
  {
   "cell_type": "code",
   "execution_count": 8,
   "id": "f9f55b0b-9454-4478-8591-6dd0c806f632",
   "metadata": {
    "tags": []
   },
   "outputs": [
    {
     "name": "stdout",
     "output_type": "stream",
     "text": [
      "\n",
      "Number of transactions with more than one product: 0\n"
     ]
    }
   ],
   "source": [
    "# Check the number of transactions where more than one product is bought\n",
    "multi_product_transactions = transaction_size[transaction_size > 1]\n",
    "print(f\"\\nNumber of transactions with more than one product: {len(multi_product_transactions)}\")"
   ]
  },
  {
   "cell_type": "markdown",
   "id": "262a4b9a-d8a7-43a8-b785-d09a710ba9f4",
   "metadata": {},
   "source": [
    "Interpretation:\n",
    "\n",
    "Complete Absence of Multi-Product Purchases:\n",
    "* The result of 0 conclusively shows that every single transaction in the dataset involves the purchase of only one product.\n",
    "\n",
    "Reinforcement of Single-Item Purchase Pattern:\n",
    "* This result further validates the findings from the transaction_size.describe() output, confirming that the data is entirely dominated by single-item purchases.\n",
    "\n",
    "Impact on Association Rule Mining:\n",
    "* This result is a major reason why the association rule mining attempts consistently resulted in empty DataFrames. There are no combinations of products to analyze.\n",
    "\n",
    "Business Implications:\n",
    "* This provides a very clear picture of the customers shopping habits. If the business plan involves increasing the amount of products that are purchased per transaction, then a new sales strategy will be needed.\n",
    "\n",
    "Data Granularity:\n",
    "* As mentioned previously, this further indicates that the data is very granular, and each sales ID is likely a single item sale, instead of a full shopping basket.\n",
    "\n",
    "This output provides definitive proof that the Nestle sales data is characterized by single-item transactions, which has significant implications for marketing, sales strategies, and the applicability of association rule mining."
   ]
  },
  {
   "cell_type": "markdown",
   "id": "ab3546d6-fd2f-4aec-9de7-0c8e22b2342c",
   "metadata": {},
   "source": [
    "What this Means: No Cross-selling Opportunities: Since each transaction involves only one product, market basket analysis (i.e., identifying products often bought together) won't be possible. We need to rethink how to apply the Apriori algorithm, or consider different strategies to improve our analysis."
   ]
  },
  {
   "cell_type": "markdown",
   "id": "e1b6480d-28fa-4558-a7e8-5b25e29d1774",
   "metadata": {},
   "source": [
    "### 8. Product Sales Insights"
   ]
  },
  {
   "cell_type": "markdown",
   "id": "7434f6d2-ebb6-4520-95d8-322b834e06eb",
   "metadata": {},
   "source": [
    "Next, we analyze the total revenue generated by each product and sales channel to identify top-performing products and channels."
   ]
  },
  {
   "cell_type": "markdown",
   "id": "07635c05-bc8c-4576-b71d-9b1b7f16439e",
   "metadata": {},
   "source": [
    "1. Focus on Individual Product Popularity:¶\n",
    "Instead of analyzing associations between products, we could focus on the popularity of individual products by looking at which products have the highest total sales or the highest number of purchases.\n",
    "\n",
    "2. Additional Insights with Sales Metrics:\n",
    "we can also explore other metrics like revenue per product, revenue per sales channel, or average sales per product to gain insights about sales performance."
   ]
  },
  {
   "cell_type": "markdown",
   "id": "231fbdb5-eaaf-489a-90e5-58b579e355a8",
   "metadata": {},
   "source": [
    "#### Identifying Top Selling Products"
   ]
  },
  {
   "cell_type": "markdown",
   "id": "939bbbc8-4bdd-40af-906c-2fe5546c40fb",
   "metadata": {},
   "source": [
    "We aggregate total revenue by product to identify which products generate the most sales."
   ]
  },
  {
   "cell_type": "code",
   "execution_count": 9,
   "id": "20c6ee58-d94a-47b8-bbdb-cd9291e2fe66",
   "metadata": {
    "tags": []
   },
   "outputs": [
    {
     "name": "stdout",
     "output_type": "stream",
     "text": [
      "\n",
      "Top Selling Products:\n",
      " Product Name\n",
      "Milo                5952661.22\n",
      "Nescafe             5540926.55\n",
      "Nesquik Duo         4274963.56\n",
      "Nes Cau             3305206.60\n",
      "Nestle Drumstick    3199164.78\n",
      "Smarties            2364330.72\n",
      "Kit Kat             2226687.31\n",
      "Maggi               2226571.83\n",
      "Nescafe Gold        1729243.88\n",
      "Name: Total Revenue, dtype: float64\n"
     ]
    }
   ],
   "source": [
    "# Grouping the dataset by 'Product Name' and summing up the 'Total Revenue' for each product\n",
    "product_sales = df.groupby('Product Name')['Total Revenue'].sum()\n",
    "\n",
    "# Sorting the total revenue in descending order to get the top-selling products\n",
    "top_selling_products = product_sales.sort_values(ascending=False)\n",
    "\n",
    "# Display the top 10 selling products based on revenue\n",
    "print(\"\\nTop Selling Products:\\n\", top_selling_products.head(10))"
   ]
  },
  {
   "cell_type": "code",
   "execution_count": 10,
   "id": "830b3fd4-71a2-4739-a802-e4c8643ce4e6",
   "metadata": {
    "tags": []
   },
   "outputs": [
    {
     "data": {
      "image/png": "[encoded data removed]",
      "text/plain": [
       "<Figure size 640x480 with 1 Axes>"
      ]
     },
     "metadata": {},
     "output_type": "display_data"
    }
   ],
   "source": [
    "import matplotlib.pyplot as plt\n",
    "\n",
    "# Plot the top 10 selling products based on total revenue\n",
    "top_selling_products.head(10).plot(kind='bar', color='skyblue')\n",
    "\n",
    "# Add labels and title for clarity\n",
    "plt.title('Top 10 Selling Products by Total Revenue')\n",
    "plt.xlabel('Product Name')\n",
    "plt.ylabel('Total Revenue')\n",
    "\n",
    "# Rotate x-axis labels for better readability\n",
    "plt.xticks(rotation=45, ha='right')\n",
    "\n",
    "# Show the plot\n",
    "plt.tight_layout()\n",
    "plt.show()"
   ]
  },
  {
   "cell_type": "markdown",
   "id": "8cad60ef-85a7-447d-9a83-86145cf73daf",
   "metadata": {},
   "source": [
    "Interpretation:\n",
    "    \n",
    "* Revenue Concentration:\n",
    "    * A significant portion of Nestle's revenue is generated by a few key products, particularly Milo and Nescafe.\n",
    "* Product Performance Insights:\n",
    "    * This ranking provides valuable insights into the relative performance of different Nestle products, which can inform marketing, sales, and product development strategies.\n",
    "* Strategic Implications:\n",
    "    * Nestle can focus on promoting and optimizing the sales of these top-performing products to maximize revenue.\n",
    "    * The company can also look into the reasons for the high sales of these items, and apply those reasons to other products.\n",
    "* Marketing Focus:\n",
    "    * Marketing efforts could be focused on the top products to increase sales.\n",
    "* Inventory management:\n",
    "    * Inventory management should prioritize the top selling items.\n",
    "\n",
    "This output highlights the top-selling Nestle products based on total revenue, providing valuable information for strategic business decisions."
   ]
  },
  {
   "cell_type": "markdown",
   "id": "b3ef68a1-bd9d-4742-8c7a-91b24c06ce76",
   "metadata": {},
   "source": [
    "We could use this information to:\n",
    "\n",
    "* Identify the most profitable products.\n",
    "* Create strategies to promote high-performing products or to cross-sell them with other products.\n",
    "* Develop insights for stock management and resource allocation based on the products that generate the most revenue."
   ]
  },
  {
   "cell_type": "markdown",
   "id": "ea85ab93-95ab-4723-997d-12bddd125e97",
   "metadata": {},
   "source": [
    "#### Analyzing Revenue by Sales Channel"
   ]
  },
  {
   "cell_type": "markdown",
   "id": "82bf0fc1-3f01-45cc-addf-24b2ac408a6c",
   "metadata": {},
   "source": [
    "We examine the revenue breakdown by sales channel to identify which sales channels (e.g., online, in-store) are the most profitable."
   ]
  },
  {
   "cell_type": "code",
   "execution_count": 11,
   "id": "1c521479-345b-4a79-8278-4f3b3b681315",
   "metadata": {
    "tags": []
   },
   "outputs": [
    {
     "name": "stdout",
     "output_type": "stream",
     "text": [
      "\n",
      "Revenue by Sales Channel:\n",
      " Sales Medium\n",
      "Direct    23803735.08\n",
      "Online     7016021.37\n",
      "Name: Total Revenue, dtype: float64\n"
     ]
    }
   ],
   "source": [
    "sales_channel_revenue = df.groupby('Sales Medium')['Total Revenue'].sum().sort_values(ascending=False)\n",
    "print(\"\\nRevenue by Sales Channel:\\n\", sales_channel_revenue)"
   ]
  },
  {
   "cell_type": "code",
   "execution_count": 12,
   "id": "06f25545-e537-48b4-8094-233f0f22df13",
   "metadata": {
    "tags": []
   },
   "outputs": [
    {
     "data": {
      "image/png": "[encoded data removed]",
      "text/plain": [
       "<Figure size 640x480 with 1 Axes>"
      ]
     },
     "metadata": {},
     "output_type": "display_data"
    }
   ],
   "source": [
    "# Plot the revenue by sales channel\n",
    "sales_channel_revenue.plot(kind='bar', color='lightgreen')\n",
    "\n",
    "# Add labels and title for clarity\n",
    "plt.title('Revenue by Sales Channel')\n",
    "plt.xlabel('Sales Channel')\n",
    "plt.ylabel('Total Revenue')\n",
    "\n",
    "# Rotate x-axis labels for better readability\n",
    "plt.xticks(rotation=45, ha='right')\n",
    "\n",
    "# Show the plot\n",
    "plt.tight_layout()\n",
    "plt.show()"
   ]
  },
  {
   "cell_type": "markdown",
   "id": "2b9483c8-fdbd-43cb-b78b-9b3202ee20d3",
   "metadata": {},
   "source": [
    "Interpretation of the Results:\n",
    "\n",
    "* Direct (23,803,735.08): The \"Direct\" sales medium generates significantly higher revenue than the \"Online\" sales medium.\n",
    "* Online (7,016,021.37): The \"Online\" sales medium generates a considerably smaller amount of revenue compared to \"Direct\" sales.\n",
    "\n",
    "Key Takeaways: \n",
    "* Dominance of Direct Sales:\n",
    "    * The \"Direct\" sales medium is the primary revenue driver for Nestle, generating a much larger portion of the total revenue.\n",
    "* Relatively Low Online Revenue:\n",
    "    * While the \"Online\" sales medium contributes to revenue, its contribution is significantly lower than that of \"Direct\" sales.\n",
    "* Strategic Implications:\n",
    "    * Nestle's sales strategy appears to heavily rely on direct sales channels.\n",
    "    * The company might want to investigate strategies to increase online sales, as there is a very large gap between direct sales and online sales.\n",
    "    * The company should analyze the \"Direct\" sales channel to understand what is causing it to perform so well.\n",
    "* Resource Allocation:\n",
    "    * The current revenue distribution suggests that Nestle's resources are likely heavily invested in direct sales channels.\n",
    "* Potential for Online Growth:\n",
    "    * There is significant potential for growth in the online sales medium.\n",
    "\n",
    "This output reveals that \"Direct\" sales are the main source of revenue for Nestle, while \"Online\" sales contribute a much smaller portion. This information is crucial for strategic business decisions related to sales channel optimization and resource allocation."
   ]
  },
  {
   "cell_type": "markdown",
   "id": "30dd0b56-0768-49e1-be18-8dafff6e455d",
   "metadata": {},
   "source": [
    "How to Use This Information:\n",
    "\n",
    "* Marketing Strategy: The company might focus on strengthening the direct sales channel since it generates the majority of the revenue. They can investigate what drives success in direct sales (e.g., sales team performance, in-person events).\n",
    "* Online Sales Opportunities: While online sales are contributing less, they could be an area for growth potential. Strategies like digital marketing, optimizing the online store experience, or offering exclusive online deals could boost online sales.\n",
    "* Resource Allocation: More resources might be allocated to direct sales (since it's more profitable), but they should consider investing in improving online sales to tap into a growing trend."
   ]
  },
  {
   "cell_type": "markdown",
   "id": "06f75252-750f-4ec9-8509-997a6257519d",
   "metadata": {},
   "source": [
    "Conclusion: Since the dataset consists of mostly single-product transactions, market basket analysis may not be the best approach. However, focusing on individual product sales, sales channel analysis, and product bundling strategies based on external data could provide useful insights. "
   ]
  },
  {
   "cell_type": "code",
   "execution_count": null,
   "id": "d43c6b00-7477-437b-8633-554b95badbaa",
   "metadata": {},
   "outputs": [],
   "source": []
  }
 ],
 "metadata": {
  "kernelspec": {
   "display_name": "Python 3 (ipykernel)",
   "language": "python",
   "name": "python3"
  },
  "language_info": {
   "codemirror_mode": {
    "name": "ipython",
    "version": 3
   },
   "file_extension": ".py",
   "mimetype": "text/x-python",
   "name": "python",
   "nbconvert_exporter": "python",
   "pygments_lexer": "ipython3",
   "version": "3.10.9"
  }
 },
 "nbformat": 4,
 "nbformat_minor": 5
}
